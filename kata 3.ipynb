{
 "cells": [
  {
   "cell_type": "markdown",
   "metadata": {},
   "source": [
    "#Ejercicio de condiciones"
   ]
  },
  {
   "cell_type": "code",
   "execution_count": 5,
   "metadata": {},
   "outputs": [
    {
     "name": "stdout",
     "output_type": "stream",
     "text": [
      "Advertencia, un asteroide se acerca a la Tierra con posibilidad de impacto\n",
      "Hay un asteroide entrando a la atmosfera terrestre pero no es posible observarlo a simple vista debido a su baja velocidad\n"
     ]
    }
   ],
   "source": [
    "asteroide = 49\n",
    "\n",
    "if asteroide>25:\n",
    "    print(\"Advertencia, un asteroide se acerca a la Tierra con posibilidad de impacto\")\n",
    "else:\n",
    "    print(\"Un asteroide se acerca a la Tierra pero no hay peligro de impacto\")\n",
    "\n",
    "asteroide = 19\n",
    "\n",
    "if asteroide >=20:\n",
    "    print(\"Hay un asteroide entrando en la atmosfera terreste, si miran al cielo es posible observar el rayo de luz que produce\")\n",
    "elif asteroide<=20:\n",
    "    print(\"Hay un asteroide entrando a la atmosfera terrestre pero no es posible observarlo a simple vista debido a su baja velocidad\")\n",
    "else:\n",
    "    print(\"Hoy es un buen dia para salir a tomar el sol, sin ningun asteroide acercandose\")\n"
   ]
  },
  {
   "cell_type": "markdown",
   "metadata": {},
   "source": [
    "##Ejercicio de condiciones con operadores"
   ]
  },
  {
   "cell_type": "code",
   "execution_count": 8,
   "metadata": {},
   "outputs": [
    {
     "name": "stdout",
     "output_type": "stream",
     "text": [
      "!Atencion! A todos los habitantes que esten escuchando este mensaje, alejense lo antes posible de la zona, se calculó un posible impacto que causara grandes daños\n",
      "Hoy es un gran dia, disfrutenlo con sus seres queridos, nunca se sabe si podría caer un asteroide\n"
     ]
    }
   ],
   "source": [
    "velocidad = 50\n",
    "tamano = 360\n",
    "\n",
    "if tamano > 25 and velocidad >25:\n",
    "    print(\"!Atencion! A todos los habitantes que esten escuchando este mensaje, alejense lo antes posible de la zona, se calculó un posible impacto que causara grandes daños\")\n",
    "elif (tamano < 25 and velocidad >25) or (tamano>25 and velocidad<25):\n",
    "    print(\"Advertencia, un asteroide se acerca a la Tierra con posibilidad de impacto\")\n",
    "\n",
    "velocidad = 15\n",
    "\n",
    "if velocidad >20:\n",
    "    print(\"(Hay un asteroide entrando en la atmosfera terreste, si miran al cielo es posible observar el rayo de luz que produce\")\n",
    "else:\n",
    "    print(\"Hoy es un gran dia, disfrutenlo con sus seres queridos, nunca se sabe si podría caer un asteroide\")\n"
   ]
  }
 ],
 "metadata": {
  "interpreter": {
   "hash": "8ed06d07b9ff369db6ed7b53447be18709da67cd911d838d72fee7fecb26667a"
  },
  "kernelspec": {
   "display_name": "Python 3.10.2 64-bit",
   "language": "python",
   "name": "python3"
  },
  "language_info": {
   "codemirror_mode": {
    "name": "ipython",
    "version": 3
   },
   "file_extension": ".py",
   "mimetype": "text/x-python",
   "name": "python",
   "nbconvert_exporter": "python",
   "pygments_lexer": "ipython3",
   "version": "3.10.2"
  },
  "orig_nbformat": 4
 },
 "nbformat": 4,
 "nbformat_minor": 2
}
