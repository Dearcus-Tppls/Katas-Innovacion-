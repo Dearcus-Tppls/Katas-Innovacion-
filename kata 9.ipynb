{
 "cells": [
  {
   "cell_type": "markdown",
   "metadata": {},
   "source": [
    "##Uso de funciones en Python"
   ]
  },
  {
   "cell_type": "code",
   "execution_count": 54,
   "metadata": {},
   "outputs": [
    {
     "name": "stdout",
     "output_type": "stream",
     "text": [
      "The average of the tanks is: 27.666666666666668\n"
     ]
    },
    {
     "data": {
      "text/plain": [
       "'Total amount of fuel in the tanks is 46.333333333333336'"
      ]
     },
     "execution_count": 54,
     "metadata": {},
     "output_type": "execute_result"
    }
   ],
   "source": [
    "def fuel(tank1,tank2,tank3):\n",
    "    average = (tank1+tank2+tank3)/3\n",
    "    return f'The average of the tanks is: {average}'\n",
    "\n",
    "print(fuel(35,20,28))\n",
    "\n",
    "def average(*tanks):\n",
    "    tftanks = sum(tanks)\n",
    "    numtanks = len(tanks)\n",
    "    avtanks = tftanks/numtanks\n",
    "    return avtanks\n",
    "\n",
    "def reports(tank1,tank2,tank3):\n",
    "    return f'Total amount of fuel in the tanks is {average(tank1,tank2,tank3)}'\n",
    "reports(38,80,21)"
   ]
  },
  {
   "cell_type": "markdown",
   "metadata": {},
   "source": [
    "#Trabajo con argumentos de palabra clave"
   ]
  },
  {
   "cell_type": "code",
   "execution_count": 114,
   "metadata": {},
   "outputs": [
    {
     "name": "stdout",
     "output_type": "stream",
     "text": [
      "    Pre-launch: 55\n",
      "    Flight_time: 600\n",
      "    Destination: Ariel\n",
      "    External tank: 420\n",
      "    Internal tank: 1000\n",
      "    \n",
      "    Total amount of time: 769\n",
      "    Total amount of fuel: 4423\n",
      "\n",
      "    Total amount of time: 568 \n",
      "    Destination: Tetis\n",
      "    Internal_fuel: a lot\n",
      "    Extenal_fuel: 902834\n"
     ]
    }
   ],
   "source": [
    "def report(pre_launch,flight_time,destination,ext_tank,int_tank):\n",
    "    return f\"\"\"    Pre-launch: {pre_launch}\n",
    "    Flight_time: {flight_time}\n",
    "    Destination: {destination}\n",
    "    External tank: {ext_tank}\n",
    "    Internal tank: {int_tank}\"\"\"\n",
    "\n",
    "print(report(55,600,\"Ariel\",420,1000))\n",
    "\n",
    "def flexrprt(destination,*times,**tanks):\n",
    "    return f\"\"\"    \n",
    "    Total amount of time: {sum(times)}\n",
    "    Total amount of fuel: {sum(tanks.values())}\"\"\"\n",
    "\n",
    "print(flexrprt('Titania', 448, 321, Internal_fuel = 3312, External_fuel = 1111))\n",
    "\n",
    "def lastrprt(destination, *times, **tanks):\n",
    "    report = f\"\"\"\n",
    "    Total amount of time: {sum(times)} \n",
    "    Destination: {destination}\"\"\"\n",
    "    for key,value in tanks.items():\n",
    "        report += f'\\n    {key}: {value}'\n",
    "    return report\n",
    "\n",
    "print(lastrprt(\"Tetis\", 234, 334, Internal_fuel=\"a lot\", Extenal_fuel=902834))\n",
    "\n"
   ]
  }
 ],
 "metadata": {
  "interpreter": {
   "hash": "8ed06d07b9ff369db6ed7b53447be18709da67cd911d838d72fee7fecb26667a"
  },
  "kernelspec": {
   "display_name": "Python 3.10.2 64-bit",
   "language": "python",
   "name": "python3"
  },
  "language_info": {
   "codemirror_mode": {
    "name": "ipython",
    "version": 3
   },
   "file_extension": ".py",
   "mimetype": "text/x-python",
   "name": "python",
   "nbconvert_exporter": "python",
   "pygments_lexer": "ipython3",
   "version": "3.10.2"
  },
  "orig_nbformat": 4
 },
 "nbformat": 4,
 "nbformat_minor": 2
}
