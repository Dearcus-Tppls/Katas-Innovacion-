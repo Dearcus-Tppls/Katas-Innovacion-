{
 "cells": [
  {
   "cell_type": "markdown",
   "metadata": {},
   "source": [
    "#Transformar cadenas "
   ]
  },
  {
   "cell_type": "code",
   "execution_count": 36,
   "metadata": {},
   "outputs": [
    {
     "name": "stdout",
     "output_type": "stream",
     "text": [
      " The Moon is Earth's only satellite\n",
      " \n",
      "On average, the Moon moves 4cm away from the Earth every year\n",
      " The highest daylight temperature of the Moon is 127 C\n",
      "\n",
      " The Moon is Earth's only satellite\n",
      " \n",
      "On average, the Moon moves 4cm away from the Earth every year\n",
      " The highest daylight temperature of the Moon is 127 Celcius\n",
      "\n"
     ]
    }
   ],
   "source": [
    "text = \"\"\"Interesting facts about the Moon. The Moon is Earth's only satellite. There are several interesting facts about the Moon and how it affects life here on Earth. \n",
    "On average, the Moon moves 4cm away from the Earth every year. This yearly drift is not significant enough to cause immediate effects on Earth. The highest daylight temperature of the Moon is 127 C.\"\"\"\n",
    "\n",
    "separate = text.split('.')\n",
    "\n",
    "facts = [\"satellite\",\"moves\",\"highest\",\"\"]\n",
    "tat = 0\n",
    "\n",
    "for phrase in separate:\n",
    "    if facts[tat] in phrase:\n",
    "        print(phrase)\n",
    "        tat+=1\n",
    "        \n",
    "tat = 0\n",
    "for phrase in separate:\n",
    "    if facts[tat] in phrase:\n",
    "        print(phrase.replace('C','Celcius'))\n",
    "        tat+=1\n"
   ]
  },
  {
   "cell_type": "markdown",
   "metadata": {},
   "source": [
    "##Formatear cadenas"
   ]
  },
  {
   "cell_type": "code",
   "execution_count": 59,
   "metadata": {},
   "outputs": [
    {
     "name": "stdout",
     "output_type": "stream",
     "text": [
      "Impact of gravity\n",
      "_______________________\n",
      "Planet Name: Earth\n",
      "Gravity on Moon: 1.6199999999999999 m/s2 \n",
      "\n",
      "Planet Name: Earth\n",
      "Gravity on Moon: 1.6199999999999999 m/s2\n",
      "Impact of gravity\n",
      "_______________________\n",
      "Planet Name: Neptune\n",
      "Gravity on Proteo: 0.06999999999999999 m/s2\n"
     ]
    }
   ],
   "source": [
    "name = \"Moon\"\n",
    "gravity = 0.00162\n",
    "planet = \"Earth\"\n",
    "\n",
    "title = \"Impact of gravity\"\n",
    "\n",
    "template = f\"\"\"Planet Name: {planet}\n",
    "Gravity on {name}: {gravity * 1000} m/s2\"\"\"\n",
    "\n",
    "data = f\"\"\"{title}\n",
    "_______________________\n",
    "{template}\"\"\"\n",
    "print (data,\"\\n\")\n",
    "\n",
    "name = \"Proteo\"\n",
    "gravity = 0.00007\n",
    "planet = \"Neptune\"\n",
    "\n",
    "print(template)\n",
    "\n",
    "template2 = \"\"\"{titleR}\n",
    "_______________________\n",
    "Planet Name: {planetR}\n",
    "Gravity on {nameR}: {gravityR} m/s2\"\"\"\n",
    "\n",
    "print(template2.format(titleR = title, planetR = planet, nameR = name, gravityR = (gravity*1000) ))\n"
   ]
  }
 ],
 "metadata": {
  "interpreter": {
   "hash": "8ed06d07b9ff369db6ed7b53447be18709da67cd911d838d72fee7fecb26667a"
  },
  "kernelspec": {
   "display_name": "Python 3.10.2 64-bit",
   "language": "python",
   "name": "python3"
  },
  "language_info": {
   "codemirror_mode": {
    "name": "ipython",
    "version": 3
   },
   "file_extension": ".py",
   "mimetype": "text/x-python",
   "name": "python",
   "nbconvert_exporter": "python",
   "pygments_lexer": "ipython3",
   "version": "3.10.2"
  },
  "orig_nbformat": 4
 },
 "nbformat": 4,
 "nbformat_minor": 2
}
